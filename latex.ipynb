{
 "cells": [
  {
   "cell_type": "markdown",
   "metadata": {},
   "source": [
    "## Function Overview\n",
    "\n",
    "The function calculates the right-hand side (RHS) of a differential equation related to Hall Effect Thrusters (HET). Below is a breakdown of the key mathematical steps.\n",
    "\n",
    "### Equations\n",
    "\n",
    "Let \\($$ x$$ \\) be the distance along the channel, and \\( $$y = \\begin{bmatrix} \\chi, g \\end{bmatrix} $$\\) be a vector of unknowns. The differential equation is represented as follows:\n",
    "\n",
    "$$\n",
    "f(x) = \\exp\\left( -\\beta_{\\text{mag}} \\cdot (x - 1)^2 \\right)\n",
    "$$\n",
    "\n",
    "$$\n",
    "\\beta_{\\text{bar}} = \\beta \\cdot f\n",
    "$$\n",
    "\n",
    "$$\n",
    "\\alpha_{\\text{bar}} = \\alpha \\cdot f^2\n",
    "$$\n",
    "\n",
    "where \\( $$f(x)$$ \\) represents the normalized radial magnetic field profile with \\($$ B_{\\text{max}}$$ \\), and \\($$ \\beta_{\\text{bar}} $$\\) and \\( $$\\alpha_{\\text{bar}}$$ \\) are modified versions of \\( $$\\beta $$\\) and \\($$ \\alpha$$ \\), respectively.\n",
    "\n",
    "The electron temperature \\( $$T_e $$\\) is selected based on minimizing the difference between two terms, \\( \\text{term}_1 \\) and \\( \\text{term}_2 \\), where:\n",
    "\n",
    "$$\n",
    "\\sigma = \\min \\left( \\sigma_{\\text{scl}}, \\frac{1}{25} T_e \\right)\n",
    "$$\n",
    "\n",
    "$$\n",
    "E_w = 2 T_e + T_e (1 - \\sigma) \\cdot \\log \\left( (1 - \\sigma) \\sqrt{ \\frac{M}{2 \\pi m_e} } \\right)\n",
    "$$\n",
    "\n",
    "$$\n",
    "\\text{term}_1 = A_{\\text{bar}} \\left( \\frac{3 T_e}{2 E_{\\text{iz}}} \\right)^{1/4} \\cdot \\exp\\left( -\\frac{4 E_{\\text{iz}}}{3 T_e} \\right) + B_{\\text{bar}} \\sqrt{ \\frac{T_e}{\\gamma_{\\text{bar}} E_{\\text{iz}}} } \\cdot \\frac{E_w}{(E_{\\text{iz}} \\gamma_{\\text{bar}})} \\cdot \\frac{1}{(1 - \\sigma)(1 - I_{\\text{bar}} \\chi)}\n",
    "$$\n",
    "\n",
    "$$\n",
    "\\text{term}_2 = \\frac{(1 - \\chi)^2 g^2 \\alpha_{\\text{bar}}}{\\chi^4 (1 - I_{\\text{bar}} \\chi)(1 + \\beta_{\\text{bar}} - I_{\\text{bar}} \\chi)}\n",
    "$$\n",
    "\n",
    "The electron temperature \\($$ T_e $$\\) is found by minimizing the difference between \\($$ \\text{term}_1 $$\\) and \\($$ \\text{term}_2$$ \\).\n",
    "\n",
    "The right-hand side differential equations are given by:\n",
    "\n",
    "$$\n",
    "\\Omega = A_{\\text{bar}} \\left( \\frac{3 T_e}{2 E_{\\text{iz}}} \\right)^{1/4} \\cdot \\exp\\left( -\\frac{4 E_{\\text{iz}}}{3 T_e} \\right)\n",
    "$$\n",
    "\n",
    "$$\n",
    "\\frac{d\\chi}{dx} = \\Omega \\cdot \\frac{\\chi^2 (1 - I_{\\text{bar}} \\chi)}{g}\n",
    "$$\n",
    "\n",
    "$$\n",
    "\\frac{dg}{dx} = \\frac{\\alpha_{\\text{bar}} (1 - \\chi)}{1 + \\beta_{\\text{bar}} - I_{\\text{bar}} \\chi}\n",
    "$$\n"
   ]
  },
  {
   "cell_type": "markdown",
   "metadata": {},
   "source": []
  },
  {
   "cell_type": "markdown",
   "metadata": {},
   "source": []
  }
 ],
 "metadata": {
  "language_info": {
   "name": "python"
  }
 },
 "nbformat": 4,
 "nbformat_minor": 2
}
